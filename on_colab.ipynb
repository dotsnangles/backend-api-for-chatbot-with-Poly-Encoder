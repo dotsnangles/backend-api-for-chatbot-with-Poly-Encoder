{
  "cells": [
    {
      "cell_type": "code",
      "execution_count": null,
      "metadata": {
        "id": "ED--r7ur-DmI"
      },
      "outputs": [],
      "source": [
        "%cd /content\n",
        "!rm -rf chatbot-rest-api"
      ]
    },
    {
      "cell_type": "code",
      "execution_count": null,
      "metadata": {
        "id": "4rBOdu564fZ7"
      },
      "outputs": [],
      "source": [
        "!pip install -q transformers datasets folium==0.2.1"
      ]
    },
    {
      "cell_type": "code",
      "execution_count": null,
      "metadata": {
        "id": "v5Wex_Ot4CvR"
      },
      "outputs": [],
      "source": [
        "!git clone https://github.com/dotsnangles/chatbot-rest-api.git\n",
        "%cd chatbot-rest-api\n",
        "!python download.py"
      ]
    },
    {
      "cell_type": "code",
      "execution_count": null,
      "metadata": {
        "id": "gnj_sPbh4McQ"
      },
      "outputs": [],
      "source": [
        "from modules import chatbot_colab as chatbot"
      ]
    },
    {
      "cell_type": "code",
      "execution_count": null,
      "metadata": {
        "id": "A2NQiP_9GF0R"
      },
      "outputs": [],
      "source": [
        "query = ''\n",
        "chatbot(query)"
      ]
    }
  ],
  "metadata": {
    "accelerator": "GPU",
    "colab": {
      "authorship_tag": "ABX9TyPkHfKiRHsTJl7DoacbV2Lr",
      "collapsed_sections": [],
      "include_colab_link": true,
      "machine_shape": "hm",
      "name": "chatbot-rest-api-test-on-colab.ipynb",
      "provenance": []
    },
    "gpuClass": "standard",
    "kernelspec": {
      "display_name": "Python 3.10.4 ('chatbot')",
      "language": "python",
      "name": "python3"
    },
    "language_info": {
      "name": "python",
      "version": "3.10.4"
    },
    "vscode": {
      "interpreter": {
        "hash": "e8bbcb14bee540dce6952c17d7c02002c9a936d237eef19712766386ec564afb"
      }
    }
  },
  "nbformat": 4,
  "nbformat_minor": 0
}
