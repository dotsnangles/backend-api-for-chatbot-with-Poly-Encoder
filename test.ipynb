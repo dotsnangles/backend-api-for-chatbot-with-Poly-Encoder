{
 "cells": [
  {
   "cell_type": "code",
   "execution_count": 2,
   "metadata": {},
   "outputs": [
    {
     "name": "stderr",
     "output_type": "stream",
     "text": [
      "Some weights of the model checkpoint at klue/bert-base were not used when initializing BertModel: ['cls.predictions.transform.LayerNorm.bias', 'cls.predictions.decoder.weight', 'cls.seq_relationship.bias', 'cls.predictions.decoder.bias', 'cls.predictions.transform.LayerNorm.weight', 'cls.predictions.transform.dense.weight', 'cls.seq_relationship.weight', 'cls.predictions.bias', 'cls.predictions.transform.dense.bias']\n",
      "- This IS expected if you are initializing BertModel from the checkpoint of a model trained on another task or with another architecture (e.g. initializing a BertForSequenceClassification model from a BertForPreTraining model).\n",
      "- This IS NOT expected if you are initializing BertModel from the checkpoint of a model that you expect to be exactly identical (initializing a BertForSequenceClassification model from a BertForSequenceClassification model).\n"
     ]
    }
   ],
   "source": [
    "from modules import device, model, context_input, response_input, embs_gen, cand_emb_gen, score, get_cand_embs, response_table"
   ]
  },
  {
   "cell_type": "code",
   "execution_count": 3,
   "metadata": {},
   "outputs": [],
   "source": [
    "cand_embs = get_cand_embs()"
   ]
  },
  {
   "cell_type": "code",
   "execution_count": 4,
   "metadata": {},
   "outputs": [
    {
     "data": {
      "text/plain": [
       "tensor([[[ 0.4922, -0.6527,  0.3834,  ..., -0.2355, -0.0816,  0.7831],\n",
       "         [ 0.4265, -0.7164,  0.4097,  ..., -0.4494,  0.0708,  1.1537],\n",
       "         [ 0.3295, -0.6451,  0.3668,  ..., -0.4229,  0.1024,  1.1591],\n",
       "         ...,\n",
       "         [ 0.7648, -0.7776,  0.2120,  ..., -0.2492,  0.2255,  0.7545],\n",
       "         [ 0.0553, -0.9839,  0.3826,  ..., -0.7569, -0.0208,  0.4652],\n",
       "         [ 0.4029, -0.7795,  0.4000,  ..., -0.3931,  0.0195,  0.8489]]])"
      ]
     },
     "execution_count": 4,
     "metadata": {},
     "output_type": "execute_result"
    }
   ],
   "source": [
    "cand_embs"
   ]
  },
  {
   "cell_type": "code",
   "execution_count": 5,
   "metadata": {},
   "outputs": [
    {
     "data": {
      "text/html": [
       "<div>\n",
       "<style scoped>\n",
       "    .dataframe tbody tr th:only-of-type {\n",
       "        vertical-align: middle;\n",
       "    }\n",
       "\n",
       "    .dataframe tbody tr th {\n",
       "        vertical-align: top;\n",
       "    }\n",
       "\n",
       "    .dataframe thead th {\n",
       "        text-align: right;\n",
       "    }\n",
       "</style>\n",
       "<table border=\"1\" class=\"dataframe\">\n",
       "  <thead>\n",
       "    <tr style=\"text-align: right;\">\n",
       "      <th></th>\n",
       "      <th>context</th>\n",
       "      <th>response</th>\n",
       "    </tr>\n",
       "  </thead>\n",
       "  <tbody>\n",
       "    <tr>\n",
       "      <th>0</th>\n",
       "      <td>['participant 1: 아내가 드디어 출산하게 되어서 정말 신이 나.', '...</td>\n",
       "      <td>['좋은 아빠가 되실 거 같아요. 진심으로 축하드려요.']</td>\n",
       "    </tr>\n",
       "    <tr>\n",
       "      <th>1</th>\n",
       "      <td>['participant 1: 당뇨랑 합병증 때문에 먹어야 할 약이 열 가지가 넘어...</td>\n",
       "      <td>['약을 잘 챙겨 먹어 건강해지시길 바랄게요.']</td>\n",
       "    </tr>\n",
       "    <tr>\n",
       "      <th>2</th>\n",
       "      <td>['participant 1: 고등학교에 올라오니 중학교 때보다 수업이 갑자기 어려...</td>\n",
       "      <td>['열심히 해서 좋은 결과가 있었으면 좋겠어요.']</td>\n",
       "    </tr>\n",
       "    <tr>\n",
       "      <th>3</th>\n",
       "      <td>['participant 1: 재취업이 돼서 받게 된 첫 월급으로 온 가족이 외식을...</td>\n",
       "      <td>['계속 원하시는 대로 회사생활이 이어지길 바랄게요.']</td>\n",
       "    </tr>\n",
       "    <tr>\n",
       "      <th>4</th>\n",
       "      <td>['participant 1: 빚을 드디어 다 갚게 되어서 이제야 안도감이 들어.'...</td>\n",
       "      <td>['빚도 다 갚았으니 당분간은 아무 생각도 안 하며 살고 싶으시군요.']</td>\n",
       "    </tr>\n",
       "    <tr>\n",
       "      <th>...</th>\n",
       "      <td>...</td>\n",
       "      <td>...</td>\n",
       "    </tr>\n",
       "    <tr>\n",
       "      <th>40874</th>\n",
       "      <td>['participant 1: 같이 사는 친구가 애완견을 데려왔는데 대부분 내가 돌...</td>\n",
       "      <td>['친구에게 얘기해서 혼자 부담을 떠안지 않으면 좋겠어요.']</td>\n",
       "    </tr>\n",
       "    <tr>\n",
       "      <th>40875</th>\n",
       "      <td>['participant 1: 지난주에 건강검진 결과가 나왔는데 정상이라고 결과가 ...</td>\n",
       "      <td>['건강검진에서 좋은결과를 받으신 상황이군요.']</td>\n",
       "    </tr>\n",
       "    <tr>\n",
       "      <th>40876</th>\n",
       "      <td>['participant 1: 엄마는 내 꿈인 작가를 응원해 주고는 했는데 지금은 ...</td>\n",
       "      <td>['꿈을 어떻게 이룰 것인지 엄마에게 이야기해보려 하시는군요.']</td>\n",
       "    </tr>\n",
       "    <tr>\n",
       "      <th>40877</th>\n",
       "      <td>['participant 1: 이렇게 좋은 운동 시설에서 경로 우대로 운동할 수 있...</td>\n",
       "      <td>['안마기로 피로가 많이 풀리시길 바라요.']</td>\n",
       "    </tr>\n",
       "    <tr>\n",
       "      <th>40878</th>\n",
       "      <td>['participant 1: 친구 관계가 너무 힘들어. 베푸는 만큼 돌아오지 않는...</td>\n",
       "      <td>['이번에도 대화를 통해 불편한 마음을 풀려고 하시는군요.']</td>\n",
       "    </tr>\n",
       "  </tbody>\n",
       "</table>\n",
       "<p>40879 rows × 2 columns</p>\n",
       "</div>"
      ],
      "text/plain": [
       "                                                 context  \\\n",
       "0      ['participant 1: 아내가 드디어 출산하게 되어서 정말 신이 나.', '...   \n",
       "1      ['participant 1: 당뇨랑 합병증 때문에 먹어야 할 약이 열 가지가 넘어...   \n",
       "2      ['participant 1: 고등학교에 올라오니 중학교 때보다 수업이 갑자기 어려...   \n",
       "3      ['participant 1: 재취업이 돼서 받게 된 첫 월급으로 온 가족이 외식을...   \n",
       "4      ['participant 1: 빚을 드디어 다 갚게 되어서 이제야 안도감이 들어.'...   \n",
       "...                                                  ...   \n",
       "40874  ['participant 1: 같이 사는 친구가 애완견을 데려왔는데 대부분 내가 돌...   \n",
       "40875  ['participant 1: 지난주에 건강검진 결과가 나왔는데 정상이라고 결과가 ...   \n",
       "40876  ['participant 1: 엄마는 내 꿈인 작가를 응원해 주고는 했는데 지금은 ...   \n",
       "40877  ['participant 1: 이렇게 좋은 운동 시설에서 경로 우대로 운동할 수 있...   \n",
       "40878  ['participant 1: 친구 관계가 너무 힘들어. 베푸는 만큼 돌아오지 않는...   \n",
       "\n",
       "                                       response  \n",
       "0              ['좋은 아빠가 되실 거 같아요. 진심으로 축하드려요.']  \n",
       "1                   ['약을 잘 챙겨 먹어 건강해지시길 바랄게요.']  \n",
       "2                  ['열심히 해서 좋은 결과가 있었으면 좋겠어요.']  \n",
       "3               ['계속 원하시는 대로 회사생활이 이어지길 바랄게요.']  \n",
       "4      ['빚도 다 갚았으니 당분간은 아무 생각도 안 하며 살고 싶으시군요.']  \n",
       "...                                         ...  \n",
       "40874        ['친구에게 얘기해서 혼자 부담을 떠안지 않으면 좋겠어요.']  \n",
       "40875               ['건강검진에서 좋은결과를 받으신 상황이군요.']  \n",
       "40876      ['꿈을 어떻게 이룰 것인지 엄마에게 이야기해보려 하시는군요.']  \n",
       "40877                 ['안마기로 피로가 많이 풀리시길 바라요.']  \n",
       "40878        ['이번에도 대화를 통해 불편한 마음을 풀려고 하시는군요.']  \n",
       "\n",
       "[40879 rows x 2 columns]"
      ]
     },
     "execution_count": 5,
     "metadata": {},
     "output_type": "execute_result"
    }
   ],
   "source": [
    "response_table"
   ]
  },
  {
   "cell_type": "code",
   "execution_count": null,
   "metadata": {},
   "outputs": [],
   "source": []
  }
 ],
 "metadata": {
  "kernelspec": {
   "display_name": "Python 3.10.4 ('chatbot')",
   "language": "python",
   "name": "python3"
  },
  "language_info": {
   "codemirror_mode": {
    "name": "ipython",
    "version": 3
   },
   "file_extension": ".py",
   "mimetype": "text/x-python",
   "name": "python",
   "nbconvert_exporter": "python",
   "pygments_lexer": "ipython3",
   "version": "3.10.4"
  },
  "orig_nbformat": 4,
  "vscode": {
   "interpreter": {
    "hash": "e8bbcb14bee540dce6952c17d7c02002c9a936d237eef19712766386ec564afb"
   }
  }
 },
 "nbformat": 4,
 "nbformat_minor": 2
}
