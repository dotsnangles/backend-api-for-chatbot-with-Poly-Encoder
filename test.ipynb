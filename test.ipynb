{
 "cells": [
  {
   "cell_type": "code",
   "execution_count": 1,
   "metadata": {},
   "outputs": [],
   "source": [
    "import gdown, os\n",
    "\n",
    "gdown.download_folder(id='1Ipr-aNF5ELMY0HTXAmeV26LlgktKUfmG', quiet=True, use_cookies=False)\n",
    "gdown.download_folder(id='1RH7laK4WlucCw68ZeExFvyg7vs-kB_x3', quiet=True, use_cookies=False)\n",
    "os.rename('./감성대화챗봇데이터/', './data')\n",
    "os.rename('./chatbot_output/', './model')"
   ]
  },
  {
   "cell_type": "code",
   "execution_count": 1,
   "metadata": {},
   "outputs": [
    {
     "name": "stderr",
     "output_type": "stream",
     "text": [
      "/home/jake/anaconda3/envs/chatbot/lib/python3.10/site-packages/tqdm/auto.py:22: TqdmWarning: IProgress not found. Please update jupyter and ipywidgets. See https://ipywidgets.readthedocs.io/en/stable/user_install.html\n",
      "  from .autonotebook import tqdm as notebook_tqdm\n",
      "Some weights of the model checkpoint at klue/bert-base were not used when initializing BertModel: ['cls.predictions.decoder.weight', 'cls.seq_relationship.bias', 'cls.predictions.transform.dense.bias', 'cls.seq_relationship.weight', 'cls.predictions.bias', 'cls.predictions.decoder.bias', 'cls.predictions.transform.dense.weight', 'cls.predictions.transform.LayerNorm.bias', 'cls.predictions.transform.LayerNorm.weight']\n",
      "- This IS expected if you are initializing BertModel from the checkpoint of a model trained on another task or with another architecture (e.g. initializing a BertForSequenceClassification model from a BertForPreTraining model).\n",
      "- This IS NOT expected if you are initializing BertModel from the checkpoint of a model that you expect to be exactly identical (initializing a BertForSequenceClassification model from a BertForSequenceClassification model).\n"
     ]
    }
   ],
   "source": [
    "from modules import device, model, context_input, response_input, embs_gen, cand_emb_gen, score, get_cand_embs\n",
    "import torch"
   ]
  },
  {
   "cell_type": "code",
   "execution_count": 4,
   "metadata": {},
   "outputs": [],
   "source": [
    "cand_embs = get_cand_embs()"
   ]
  },
  {
   "cell_type": "code",
   "execution_count": 5,
   "metadata": {},
   "outputs": [
    {
     "data": {
      "text/plain": [
       "tensor([[[ 0.4922, -0.6527,  0.3834,  ..., -0.2355, -0.0816,  0.7831],\n",
       "         [ 0.4265, -0.7164,  0.4097,  ..., -0.4494,  0.0708,  1.1537],\n",
       "         [ 0.3295, -0.6451,  0.3668,  ..., -0.4229,  0.1024,  1.1591],\n",
       "         ...,\n",
       "         [ 0.7648, -0.7776,  0.2120,  ..., -0.2492,  0.2255,  0.7545],\n",
       "         [ 0.0553, -0.9839,  0.3826,  ..., -0.7569, -0.0208,  0.4652],\n",
       "         [ 0.4029, -0.7795,  0.4000,  ..., -0.3931,  0.0195,  0.8489]]])"
      ]
     },
     "execution_count": 5,
     "metadata": {},
     "output_type": "execute_result"
    }
   ],
   "source": [
    "cand_embs"
   ]
  }
 ],
 "metadata": {
  "kernelspec": {
   "display_name": "Python 3.10.4 ('chatbot')",
   "language": "python",
   "name": "python3"
  },
  "language_info": {
   "codemirror_mode": {
    "name": "ipython",
    "version": 3
   },
   "file_extension": ".py",
   "mimetype": "text/x-python",
   "name": "python",
   "nbconvert_exporter": "python",
   "pygments_lexer": "ipython3",
   "version": "3.10.4"
  },
  "orig_nbformat": 4,
  "vscode": {
   "interpreter": {
    "hash": "e8bbcb14bee540dce6952c17d7c02002c9a936d237eef19712766386ec564afb"
   }
  }
 },
 "nbformat": 4,
 "nbformat_minor": 2
}
