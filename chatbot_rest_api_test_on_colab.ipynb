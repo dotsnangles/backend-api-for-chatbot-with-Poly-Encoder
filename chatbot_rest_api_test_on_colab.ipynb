{
  "nbformat": 4,
  "nbformat_minor": 0,
  "metadata": {
    "colab": {
      "name": "chatbot-rest-api-test-on-colab.ipynb",
      "provenance": [],
      "collapsed_sections": [],
      "machine_shape": "hm",
      "authorship_tag": "ABX9TyPkHfKiRHsTJl7DoacbV2Lr",
      "include_colab_link": true
    },
    "kernelspec": {
      "name": "python3",
      "display_name": "Python 3"
    },
    "language_info": {
      "name": "python"
    },
    "accelerator": "GPU",
    "gpuClass": "standard"
  },
  "cells": [
    {
      "cell_type": "markdown",
      "metadata": {
        "id": "view-in-github",
        "colab_type": "text"
      },
      "source": [
        "<a href=\"https://colab.research.google.com/github/dotsnangles/chatbot-rest-api/blob/master/chatbot_rest_api_test_on_colab.ipynb\" target=\"_parent\"><img src=\"https://colab.research.google.com/assets/colab-badge.svg\" alt=\"Open In Colab\"/></a>"
      ]
    },
    {
      "cell_type": "code",
      "source": [
        "%cd /content\n",
        "!rm -rf chatbot-rest-api"
      ],
      "metadata": {
        "id": "ED--r7ur-DmI"
      },
      "execution_count": null,
      "outputs": []
    },
    {
      "cell_type": "code",
      "source": [
        "!pip install -q transformers datasets folium==0.2.1"
      ],
      "metadata": {
        "id": "4rBOdu564fZ7"
      },
      "execution_count": null,
      "outputs": []
    },
    {
      "cell_type": "code",
      "execution_count": null,
      "metadata": {
        "id": "v5Wex_Ot4CvR"
      },
      "outputs": [],
      "source": [
        "!git clone https://github.com/dotsnangles/chatbot-rest-api.git\n",
        "%cd chatbot-rest-api\n",
        "!python download.py"
      ]
    },
    {
      "cell_type": "code",
      "source": [
        "from modules import chatbot_colab as chatbot"
      ],
      "metadata": {
        "id": "gnj_sPbh4McQ"
      },
      "execution_count": null,
      "outputs": []
    },
    {
      "cell_type": "code",
      "source": [
        "query = ''\n",
        "chatbot(query)"
      ],
      "metadata": {
        "id": "A2NQiP_9GF0R"
      },
      "execution_count": null,
      "outputs": []
    }
  ]
}