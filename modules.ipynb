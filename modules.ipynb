{
 "cells": [
  {
   "cell_type": "code",
   "execution_count": 3,
   "metadata": {},
   "outputs": [
    {
     "data": {
      "text/plain": [
       "['/home/jake/codes/chatbot-rest-api/chatbot_output/log.txt',\n",
       " '/home/jake/codes/chatbot-rest-api/chatbot_output/poly_16_pytorch_model.bin']"
      ]
     },
     "execution_count": 3,
     "metadata": {},
     "output_type": "execute_result"
    }
   ],
   "source": [
    "import gdown, os\n",
    "\n",
    "gdown.download_folder(id='1Ipr-aNF5ELMY0HTXAmeV26LlgktKUfmG', quiet=True, use_cookies=False)\n",
    "gdown.download_folder(id='1RH7laK4WlucCw68ZeExFvyg7vs-kB_x3', quiet=True, use_cookies=False)\n",
    "os.rename('./감성대화챗봇데이터/', './data')\n",
    "os.rename('./chatbot_output/', './model')"
   ]
  },
  {
   "cell_type": "code",
   "execution_count": null,
   "metadata": {},
   "outputs": [],
   "source": [
    "import numpy as np\n",
    "import torch\n",
    "import torch.nn as nn\n",
    "import torch.nn.functional as F\n",
    "from transformers import BertPreTrainedModel, BertConfig, BertModel, BertTokenizer, AutoModel\n",
    "from encoder.encoder import PolyEncoder\n",
    "from encoder.transform import SelectionJoinTransform, SelectionSequentialTransform\n",
    "\n",
    "device = torch.device(\"cuda:0\" if torch.cuda.is_available() else \"cpu\")\n",
    "# print(device)\n",
    "\n",
    "PATH = 'model/poly_16_pytorch_model.bin'\n",
    "\n",
    "bert_name = 'klue/bert-base'\n",
    "bert_config = BertConfig.from_pretrained(bert_name)\n",
    "\n",
    "tokenizer = BertTokenizer.from_pretrained(bert_name)\n",
    "tokenizer.add_tokens(['\\n'], special_tokens=True)\n",
    "\n",
    "context_transform = SelectionJoinTransform(tokenizer=tokenizer, max_len=256)\n",
    "response_transform = SelectionSequentialTransform(tokenizer=tokenizer, max_len=128)\n",
    "\n",
    "bert = BertModel.from_pretrained(bert_name, config=bert_config)\n",
    "\n",
    "model = PolyEncoder(bert_config, bert=bert, poly_m=16)\n",
    "model.resize_token_embeddings(len(tokenizer))\n",
    "model.load_state_dict(torch.load(PATH))\n",
    "model.to(device)\n",
    "\n",
    "def context_input(context):\n",
    "    context_input_ids, context_input_masks = context_transform(context)\n",
    "    contexts_token_ids_list_batch, contexts_input_masks_list_batch = [context_input_ids], [context_input_masks]\n",
    "    long_tensors = [contexts_token_ids_list_batch, contexts_input_masks_list_batch]\n",
    "    contexts_token_ids_list_batch, contexts_input_masks_list_batch = (torch.tensor(t, dtype=torch.long, device=device) for t in long_tensors)\n",
    "    return contexts_token_ids_list_batch, contexts_input_masks_list_batch\n",
    "\n",
    "def response_input(candidates):\n",
    "    responses_token_ids_list, responses_input_masks_list = response_transform(candidates)\n",
    "    responses_token_ids_list_batch, responses_input_masks_list_batch = [responses_token_ids_list], [responses_input_masks_list]\n",
    "    long_tensors = [responses_token_ids_list_batch, responses_input_masks_list_batch]\n",
    "    responses_token_ids_list_batch, responses_input_masks_list_batch = (torch.tensor(t, dtype=torch.long, device=device) for t in long_tensors)\n",
    "    return responses_token_ids_list_batch, responses_input_masks_list_batch\n",
    "\n",
    "def embs_gen(contexts_token_ids_list_batch, contexts_input_masks_list_batch):\n",
    "    with torch.no_grad():\n",
    "        model.eval()\n",
    "        ctx_out = model.bert(contexts_token_ids_list_batch, contexts_input_masks_list_batch)[0]  # [bs, length, dim]\n",
    "        poly_code_ids = torch.arange(model.poly_m, dtype=torch.long).to(contexts_token_ids_list_batch.device)\n",
    "        poly_code_ids = poly_code_ids.unsqueeze(0).expand(1, model.poly_m)\n",
    "        poly_codes = model.poly_code_embeddings(poly_code_ids) # [bs, poly_m, dim]\n",
    "        embs = model.dot_attention(poly_codes, ctx_out, ctx_out) # [bs, poly_m, dim]\n",
    "        return embs\n",
    "\n",
    "def cand_emb_gen(responses_token_ids_list_batch, responses_input_masks_list_batch):\n",
    "    with torch.no_grad():\n",
    "        model.eval()\n",
    "        batch_size, res_cnt, seq_length = responses_token_ids_list_batch.shape # res_cnt is 1 during training\n",
    "        responses_token_ids_list_batch = responses_token_ids_list_batch.view(-1, seq_length)\n",
    "        responses_input_masks_list_batch = responses_input_masks_list_batch.view(-1, seq_length)\n",
    "        cand_emb = model.bert(responses_token_ids_list_batch, responses_input_masks_list_batch)[0][:,0,:] # [bs, dim]\n",
    "        cand_emb = cand_emb.view(batch_size, res_cnt, -1) # [bs, res_cnt, dim]\n",
    "        return cand_emb\n",
    "\n",
    "def score(embs, cand_emb):\n",
    "    with torch.no_grad():\n",
    "        model.eval()\n",
    "        ctx_emb = model.dot_attention(cand_emb, embs, embs) # [bs, res_cnt, dim]\n",
    "        dot_product = (ctx_emb*cand_emb).sum(-1)\n",
    "        return dot_product"
   ]
  },
  {
   "cell_type": "code",
   "execution_count": null,
   "metadata": {},
   "outputs": [],
   "source": [
    "import pickle\n",
    "import pandas as pd\n",
    "\n",
    "if os.path.exists('./data/cand_embs.pickle'):\n",
    "    with open('./data/cand_embs.pickle', 'rb') as f:\n",
    "        cand_embs = pickle.load(f)\n",
    "    cand_embs.to(device)\n",
    "else:\n",
    "    with open('./data/train_data_source.pickle', 'rb') as f:\n",
    "        train = pickle.load(f)\n",
    "\n",
    "    data = {\n",
    "        'context' : [],\n",
    "        'response': []\n",
    "    }\n",
    "\n",
    "    for sample in train:\n",
    "        data['context'].append(sample['context'])\n",
    "        data['response'].append([sample['responses'][0]])\n",
    "\n",
    "\n",
    "    df = pd.DataFrame(data)\n",
    "\n",
    "    ## generate cand_embs & create tensor table on device\n",
    "    response_input_srs = df['response'].apply(response_input)\n",
    "    response_input_lst = response_input_srs.to_list()\n",
    "\n",
    "    cand_embs_lst = []\n",
    "    for sample in response_input_lst:\n",
    "        cand_embs_lst.append(cand_emb_gen(*sample).to('cpu'))\n",
    "\n",
    "    cand_embs = cand_embs_lst[0]\n",
    "    for idx in range(1, len(cand_embs_lst)):\n",
    "        y = cand_embs_lst[idx]\n",
    "        cand_embs = torch.cat((cand_embs, y), 1)\n",
    "    cand_embs = cand_embs.to(device)"
   ]
  },
  {
   "cell_type": "code",
   "execution_count": null,
   "metadata": {},
   "outputs": [],
   "source": [
    "### generate context_embs\n",
    "query = ['너무 성급한 결정을 한 것 같아.']\n",
    "context_emb = embs_gen(*context_input(query))\n",
    "\n",
    "### Score & Retrieve\n",
    "import time\n",
    "start = time.time()\n",
    "s = score(context_emb, cand_embs)\n",
    "end = time.time()\n",
    "idx = s.argmax(1)\n",
    "idx = int(idx[0])\n",
    "# df['response'][idx]\n",
    "# df.iloc[idx]['context']"
   ]
  }
 ],
 "metadata": {
  "kernelspec": {
   "display_name": "Python 3.10.4 ('chatbot')",
   "language": "python",
   "name": "python3"
  },
  "language_info": {
   "codemirror_mode": {
    "name": "ipython",
    "version": 3
   },
   "file_extension": ".py",
   "mimetype": "text/x-python",
   "name": "python",
   "nbconvert_exporter": "python",
   "pygments_lexer": "ipython3",
   "version": "3.10.4"
  },
  "orig_nbformat": 4,
  "vscode": {
   "interpreter": {
    "hash": "e8bbcb14bee540dce6952c17d7c02002c9a936d237eef19712766386ec564afb"
   }
  }
 },
 "nbformat": 4,
 "nbformat_minor": 2
}
